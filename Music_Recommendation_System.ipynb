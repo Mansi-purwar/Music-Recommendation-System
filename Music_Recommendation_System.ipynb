{
  "nbformat": 4,
  "nbformat_minor": 0,
  "metadata": {
    "colab": {
      "provenance": [],
      "authorship_tag": "ABX9TyP/SmiFrLDgmxrE3LP/IR2N",
      "include_colab_link": true
    },
    "kernelspec": {
      "name": "python3",
      "display_name": "Python 3"
    },
    "language_info": {
      "name": "python"
    }
  },
  "cells": [
    {
      "cell_type": "markdown",
      "metadata": {
        "id": "view-in-github",
        "colab_type": "text"
      },
      "source": [
        "<a href=\"https://colab.research.google.com/github/Mansi-purwar/Music-Recommendation-System/blob/main/Music_Recommendation_System.ipynb\" target=\"_parent\"><img src=\"https://colab.research.google.com/assets/colab-badge.svg\" alt=\"Open In Colab\"/></a>"
      ]
    },
    {
      "cell_type": "markdown",
      "source": [
        "Creating a environment to use kaggle api by using kaggle json file as a token\n"
      ],
      "metadata": {
        "id": "SIfEWTEhGWPF"
      }
    },
    {
      "cell_type": "code",
      "execution_count": null,
      "metadata": {
        "id": "JrTTWKU-AuRv"
      },
      "outputs": [],
      "source": [
        "import os\n",
        "os.environ['KAGGLE_CONFIG_DIR'] = '/content'"
      ]
    },
    {
      "cell_type": "markdown",
      "source": [
        "importing Kaggle API by using ! in front"
      ],
      "metadata": {
        "id": "BgfsY_KUGgzH"
      }
    },
    {
      "cell_type": "code",
      "source": [
        "!kaggle datasets download -d noorsaeed/songs-recommendation-dataset"
      ],
      "metadata": {
        "colab": {
          "base_uri": "https://localhost:8080/"
        },
        "id": "Yg2DVp-XE1zc",
        "outputId": "b1dc5a87-4425-41b1-8535-e0ee76ae29aa"
      },
      "execution_count": null,
      "outputs": [
        {
          "output_type": "stream",
          "name": "stdout",
          "text": [
            "Warning: Your Kaggle API key is readable by other users on this system! To fix this, you can run 'chmod 600 /content/kaggle.json'\n",
            "Downloading songs-recommendation-dataset.zip to /content\n",
            " 83% 17.0M/20.5M [00:00<00:00, 30.7MB/s]\n",
            "100% 20.5M/20.5M [00:00<00:00, 36.1MB/s]\n"
          ]
        }
      ]
    },
    {
      "cell_type": "markdown",
      "source": [
        "Unzipping zip file and removing zip ones after use"
      ],
      "metadata": {
        "id": "0-juoF66GqbR"
      }
    },
    {
      "cell_type": "code",
      "source": [
        "#linux Command\n",
        "!unzip \\*.zip && rm *.zip"
      ],
      "metadata": {
        "id": "rE5QQquPE5qE",
        "outputId": "7b641cf6-02c3-48e7-f5a5-c7ef0bd87b62",
        "colab": {
          "base_uri": "https://localhost:8080/"
        }
      },
      "execution_count": null,
      "outputs": [
        {
          "output_type": "stream",
          "name": "stdout",
          "text": [
            "Archive:  songs-recommendation-dataset.zip\n",
            "  inflating: songdata.csv            \n"
          ]
        }
      ]
    },
    {
      "cell_type": "code",
      "source": [
        "import numpy as np\n",
        "import pandas as pd"
      ],
      "metadata": {
        "id": "4TGWs6QiG5Ii"
      },
      "execution_count": null,
      "outputs": []
    },
    {
      "cell_type": "code",
      "source": [
        "df= pd.read_csv('songdata.csv')\n",
        "df.head()"
      ],
      "metadata": {
        "colab": {
          "base_uri": "https://localhost:8080/",
          "height": 431
        },
        "id": "uDoeBCEAHM6f",
        "outputId": "acb75660-600c-41ef-f3d7-7ae7f18b7d3f"
      },
      "execution_count": null,
      "outputs": [
        {
          "output_type": "execute_result",
          "data": {
            "text/plain": [
              "  artist                   song                                        link  \\\n",
              "0   ABBA  Ahe's My Kind Of Girl  /a/abba/ahes+my+kind+of+girl_20598417.html   \n",
              "1   ABBA       Andante, Andante       /a/abba/andante+andante_20002708.html   \n",
              "2   ABBA         As Good As New        /a/abba/as+good+as+new_20003033.html   \n",
              "3   ABBA                   Bang                  /a/abba/bang_20598415.html   \n",
              "4   ABBA       Bang-A-Boomerang      /a/abba/bang+a+boomerang_20002668.html   \n",
              "\n",
              "                                                text  \n",
              "0  Look at her face, it's a wonderful face  \\nAnd...  \n",
              "1  Take it easy with me, please  \\nTouch me gentl...  \n",
              "2  I'll never know why I had to go  \\nWhy I had t...  \n",
              "3  Making somebody happy is a question of give an...  \n",
              "4  Making somebody happy is a question of give an...  "
            ],
            "text/html": [
              "\n",
              "  <div id=\"df-75c181dc-06f1-4fce-a2f2-b58d69b994a5\" class=\"colab-df-container\">\n",
              "    <div>\n",
              "<style scoped>\n",
              "    .dataframe tbody tr th:only-of-type {\n",
              "        vertical-align: middle;\n",
              "    }\n",
              "\n",
              "    .dataframe tbody tr th {\n",
              "        vertical-align: top;\n",
              "    }\n",
              "\n",
              "    .dataframe thead th {\n",
              "        text-align: right;\n",
              "    }\n",
              "</style>\n",
              "<table border=\"1\" class=\"dataframe\">\n",
              "  <thead>\n",
              "    <tr style=\"text-align: right;\">\n",
              "      <th></th>\n",
              "      <th>artist</th>\n",
              "      <th>song</th>\n",
              "      <th>link</th>\n",
              "      <th>text</th>\n",
              "    </tr>\n",
              "  </thead>\n",
              "  <tbody>\n",
              "    <tr>\n",
              "      <th>0</th>\n",
              "      <td>ABBA</td>\n",
              "      <td>Ahe's My Kind Of Girl</td>\n",
              "      <td>/a/abba/ahes+my+kind+of+girl_20598417.html</td>\n",
              "      <td>Look at her face, it's a wonderful face  \\nAnd...</td>\n",
              "    </tr>\n",
              "    <tr>\n",
              "      <th>1</th>\n",
              "      <td>ABBA</td>\n",
              "      <td>Andante, Andante</td>\n",
              "      <td>/a/abba/andante+andante_20002708.html</td>\n",
              "      <td>Take it easy with me, please  \\nTouch me gentl...</td>\n",
              "    </tr>\n",
              "    <tr>\n",
              "      <th>2</th>\n",
              "      <td>ABBA</td>\n",
              "      <td>As Good As New</td>\n",
              "      <td>/a/abba/as+good+as+new_20003033.html</td>\n",
              "      <td>I'll never know why I had to go  \\nWhy I had t...</td>\n",
              "    </tr>\n",
              "    <tr>\n",
              "      <th>3</th>\n",
              "      <td>ABBA</td>\n",
              "      <td>Bang</td>\n",
              "      <td>/a/abba/bang_20598415.html</td>\n",
              "      <td>Making somebody happy is a question of give an...</td>\n",
              "    </tr>\n",
              "    <tr>\n",
              "      <th>4</th>\n",
              "      <td>ABBA</td>\n",
              "      <td>Bang-A-Boomerang</td>\n",
              "      <td>/a/abba/bang+a+boomerang_20002668.html</td>\n",
              "      <td>Making somebody happy is a question of give an...</td>\n",
              "    </tr>\n",
              "  </tbody>\n",
              "</table>\n",
              "</div>\n",
              "    <div class=\"colab-df-buttons\">\n",
              "\n",
              "  <div class=\"colab-df-container\">\n",
              "    <button class=\"colab-df-convert\" onclick=\"convertToInteractive('df-75c181dc-06f1-4fce-a2f2-b58d69b994a5')\"\n",
              "            title=\"Convert this dataframe to an interactive table.\"\n",
              "            style=\"display:none;\">\n",
              "\n",
              "  <svg xmlns=\"http://www.w3.org/2000/svg\" height=\"24px\" viewBox=\"0 -960 960 960\">\n",
              "    <path d=\"M120-120v-720h720v720H120Zm60-500h600v-160H180v160Zm220 220h160v-160H400v160Zm0 220h160v-160H400v160ZM180-400h160v-160H180v160Zm440 0h160v-160H620v160ZM180-180h160v-160H180v160Zm440 0h160v-160H620v160Z\"/>\n",
              "  </svg>\n",
              "    </button>\n",
              "\n",
              "  <style>\n",
              "    .colab-df-container {\n",
              "      display:flex;\n",
              "      gap: 12px;\n",
              "    }\n",
              "\n",
              "    .colab-df-convert {\n",
              "      background-color: #E8F0FE;\n",
              "      border: none;\n",
              "      border-radius: 50%;\n",
              "      cursor: pointer;\n",
              "      display: none;\n",
              "      fill: #1967D2;\n",
              "      height: 32px;\n",
              "      padding: 0 0 0 0;\n",
              "      width: 32px;\n",
              "    }\n",
              "\n",
              "    .colab-df-convert:hover {\n",
              "      background-color: #E2EBFA;\n",
              "      box-shadow: 0px 1px 2px rgba(60, 64, 67, 0.3), 0px 1px 3px 1px rgba(60, 64, 67, 0.15);\n",
              "      fill: #174EA6;\n",
              "    }\n",
              "\n",
              "    .colab-df-buttons div {\n",
              "      margin-bottom: 4px;\n",
              "    }\n",
              "\n",
              "    [theme=dark] .colab-df-convert {\n",
              "      background-color: #3B4455;\n",
              "      fill: #D2E3FC;\n",
              "    }\n",
              "\n",
              "    [theme=dark] .colab-df-convert:hover {\n",
              "      background-color: #434B5C;\n",
              "      box-shadow: 0px 1px 3px 1px rgba(0, 0, 0, 0.15);\n",
              "      filter: drop-shadow(0px 1px 2px rgba(0, 0, 0, 0.3));\n",
              "      fill: #FFFFFF;\n",
              "    }\n",
              "  </style>\n",
              "\n",
              "    <script>\n",
              "      const buttonEl =\n",
              "        document.querySelector('#df-75c181dc-06f1-4fce-a2f2-b58d69b994a5 button.colab-df-convert');\n",
              "      buttonEl.style.display =\n",
              "        google.colab.kernel.accessAllowed ? 'block' : 'none';\n",
              "\n",
              "      async function convertToInteractive(key) {\n",
              "        const element = document.querySelector('#df-75c181dc-06f1-4fce-a2f2-b58d69b994a5');\n",
              "        const dataTable =\n",
              "          await google.colab.kernel.invokeFunction('convertToInteractive',\n",
              "                                                    [key], {});\n",
              "        if (!dataTable) return;\n",
              "\n",
              "        const docLinkHtml = 'Like what you see? Visit the ' +\n",
              "          '<a target=\"_blank\" href=https://colab.research.google.com/notebooks/data_table.ipynb>data table notebook</a>'\n",
              "          + ' to learn more about interactive tables.';\n",
              "        element.innerHTML = '';\n",
              "        dataTable['output_type'] = 'display_data';\n",
              "        await google.colab.output.renderOutput(dataTable, element);\n",
              "        const docLink = document.createElement('div');\n",
              "        docLink.innerHTML = docLinkHtml;\n",
              "        element.appendChild(docLink);\n",
              "      }\n",
              "    </script>\n",
              "  </div>\n",
              "\n",
              "\n",
              "<div id=\"df-ee723f69-2245-4018-911d-c5ed0f8674f0\">\n",
              "  <button class=\"colab-df-quickchart\" onclick=\"quickchart('df-ee723f69-2245-4018-911d-c5ed0f8674f0')\"\n",
              "            title=\"Suggest charts.\"\n",
              "            style=\"display:none;\">\n",
              "\n",
              "<svg xmlns=\"http://www.w3.org/2000/svg\" height=\"24px\"viewBox=\"0 0 24 24\"\n",
              "     width=\"24px\">\n",
              "    <g>\n",
              "        <path d=\"M19 3H5c-1.1 0-2 .9-2 2v14c0 1.1.9 2 2 2h14c1.1 0 2-.9 2-2V5c0-1.1-.9-2-2-2zM9 17H7v-7h2v7zm4 0h-2V7h2v10zm4 0h-2v-4h2v4z\"/>\n",
              "    </g>\n",
              "</svg>\n",
              "  </button>\n",
              "\n",
              "<style>\n",
              "  .colab-df-quickchart {\n",
              "    background-color: #E8F0FE;\n",
              "    border: none;\n",
              "    border-radius: 50%;\n",
              "    cursor: pointer;\n",
              "    display: none;\n",
              "    fill: #1967D2;\n",
              "    height: 32px;\n",
              "    padding: 0 0 0 0;\n",
              "    width: 32px;\n",
              "  }\n",
              "\n",
              "  .colab-df-quickchart:hover {\n",
              "    background-color: #E2EBFA;\n",
              "    box-shadow: 0px 1px 2px rgba(60, 64, 67, 0.3), 0px 1px 3px 1px rgba(60, 64, 67, 0.15);\n",
              "    fill: #174EA6;\n",
              "  }\n",
              "\n",
              "  [theme=dark] .colab-df-quickchart {\n",
              "    background-color: #3B4455;\n",
              "    fill: #D2E3FC;\n",
              "  }\n",
              "\n",
              "  [theme=dark] .colab-df-quickchart:hover {\n",
              "    background-color: #434B5C;\n",
              "    box-shadow: 0px 1px 3px 1px rgba(0, 0, 0, 0.15);\n",
              "    filter: drop-shadow(0px 1px 2px rgba(0, 0, 0, 0.3));\n",
              "    fill: #FFFFFF;\n",
              "  }\n",
              "</style>\n",
              "\n",
              "  <script>\n",
              "    async function quickchart(key) {\n",
              "      const charts = await google.colab.kernel.invokeFunction(\n",
              "          'suggestCharts', [key], {});\n",
              "    }\n",
              "    (() => {\n",
              "      let quickchartButtonEl =\n",
              "        document.querySelector('#df-ee723f69-2245-4018-911d-c5ed0f8674f0 button');\n",
              "      quickchartButtonEl.style.display =\n",
              "        google.colab.kernel.accessAllowed ? 'block' : 'none';\n",
              "    })();\n",
              "  </script>\n",
              "</div>\n",
              "    </div>\n",
              "  </div>\n"
            ]
          },
          "metadata": {},
          "execution_count": 5
        }
      ]
    },
    {
      "cell_type": "code",
      "source": [
        "df.shape"
      ],
      "metadata": {
        "colab": {
          "base_uri": "https://localhost:8080/"
        },
        "id": "UEaz1m1dHZUN",
        "outputId": "ee72f540-81aa-4eec-98a4-3717365dc6ff"
      },
      "execution_count": null,
      "outputs": [
        {
          "output_type": "execute_result",
          "data": {
            "text/plain": [
              "(57650, 4)"
            ]
          },
          "metadata": {},
          "execution_count": 6
        }
      ]
    },
    {
      "cell_type": "markdown",
      "source": [
        "Selecting sample of 5000 to work on dataset and droping link column as it is not a essential feature."
      ],
      "metadata": {
        "id": "HfI4tXqPHoh3"
      }
    },
    {
      "cell_type": "markdown",
      "source": [
        "Reseting indexing as we wanted it to start from 1 not from anywhere between"
      ],
      "metadata": {
        "id": "sKDpbkLVJZMf"
      }
    },
    {
      "cell_type": "code",
      "source": [
        "a=df.sample(n=5000).drop('link',axis=1).reset_index(drop=True)\n",
        "a\n",
        "# since we are droping a column we use axis one ,if we have to drop row we use axis 0 which implies there are twr axis 0 and 1"
      ],
      "metadata": {
        "colab": {
          "base_uri": "https://localhost:8080/",
          "height": 597
        },
        "id": "mewNAR5aHilz",
        "outputId": "70846f57-3fd5-4919-aa1f-13cba56c2f39"
      },
      "execution_count": null,
      "outputs": [
        {
          "output_type": "execute_result",
          "data": {
            "text/plain": [
              "               artist                          song  \\\n",
              "0     Doobie Brothers          You're Made That Way   \n",
              "1       Andy Williams                      Near You   \n",
              "2       Michael Buble                    Crazy Love   \n",
              "3       Guns N' Roses                 Out Ta Get Me   \n",
              "4       Gino Vannelli                 The Other Man   \n",
              "...               ...                           ...   \n",
              "4995      John Legend                        Refuge   \n",
              "4996              Rem                        Action   \n",
              "4997   Modern Talking  Love Don't Live Here Anymore   \n",
              "4998   Lynyrd Skynyrd          Money Back Guarantee   \n",
              "4999     Face To Face                   Nothing New   \n",
              "\n",
              "                                                   text  \n",
              "0     Who are you  \\nWhere you been  \\nHow'd you com...  \n",
              "1     There's just one place for me, near you  \\nIt'...  \n",
              "2     I can hear her heart beat for a thousand miles...  \n",
              "3     Been hidin' out  \\nAnd layin' low  \\nIt's noth...  \n",
              "4     An urgent call in the dead of night  \\nA voice...  \n",
              "...                                                 ...  \n",
              "4995  I pray for better days to come  \\nI pray that ...  \n",
              "4996  I do the dancin'  \\nYou do the hoppin'  \\nYou ...  \n",
              "4997  (Hold me darling, you know that I really, real...  \n",
              "4998  She's on the left, I'm on the right  \\nOh, her...  \n",
              "4999  There is nothing new  \\nPut in front of you  \\...  \n",
              "\n",
              "[5000 rows x 3 columns]"
            ],
            "text/html": [
              "\n",
              "  <div id=\"df-f0ca26c1-ef96-44cd-b38f-43e0c34a049f\" class=\"colab-df-container\">\n",
              "    <div>\n",
              "<style scoped>\n",
              "    .dataframe tbody tr th:only-of-type {\n",
              "        vertical-align: middle;\n",
              "    }\n",
              "\n",
              "    .dataframe tbody tr th {\n",
              "        vertical-align: top;\n",
              "    }\n",
              "\n",
              "    .dataframe thead th {\n",
              "        text-align: right;\n",
              "    }\n",
              "</style>\n",
              "<table border=\"1\" class=\"dataframe\">\n",
              "  <thead>\n",
              "    <tr style=\"text-align: right;\">\n",
              "      <th></th>\n",
              "      <th>artist</th>\n",
              "      <th>song</th>\n",
              "      <th>text</th>\n",
              "    </tr>\n",
              "  </thead>\n",
              "  <tbody>\n",
              "    <tr>\n",
              "      <th>0</th>\n",
              "      <td>Doobie Brothers</td>\n",
              "      <td>You're Made That Way</td>\n",
              "      <td>Who are you  \\nWhere you been  \\nHow'd you com...</td>\n",
              "    </tr>\n",
              "    <tr>\n",
              "      <th>1</th>\n",
              "      <td>Andy Williams</td>\n",
              "      <td>Near You</td>\n",
              "      <td>There's just one place for me, near you  \\nIt'...</td>\n",
              "    </tr>\n",
              "    <tr>\n",
              "      <th>2</th>\n",
              "      <td>Michael Buble</td>\n",
              "      <td>Crazy Love</td>\n",
              "      <td>I can hear her heart beat for a thousand miles...</td>\n",
              "    </tr>\n",
              "    <tr>\n",
              "      <th>3</th>\n",
              "      <td>Guns N' Roses</td>\n",
              "      <td>Out Ta Get Me</td>\n",
              "      <td>Been hidin' out  \\nAnd layin' low  \\nIt's noth...</td>\n",
              "    </tr>\n",
              "    <tr>\n",
              "      <th>4</th>\n",
              "      <td>Gino Vannelli</td>\n",
              "      <td>The Other Man</td>\n",
              "      <td>An urgent call in the dead of night  \\nA voice...</td>\n",
              "    </tr>\n",
              "    <tr>\n",
              "      <th>...</th>\n",
              "      <td>...</td>\n",
              "      <td>...</td>\n",
              "      <td>...</td>\n",
              "    </tr>\n",
              "    <tr>\n",
              "      <th>4995</th>\n",
              "      <td>John Legend</td>\n",
              "      <td>Refuge</td>\n",
              "      <td>I pray for better days to come  \\nI pray that ...</td>\n",
              "    </tr>\n",
              "    <tr>\n",
              "      <th>4996</th>\n",
              "      <td>Rem</td>\n",
              "      <td>Action</td>\n",
              "      <td>I do the dancin'  \\nYou do the hoppin'  \\nYou ...</td>\n",
              "    </tr>\n",
              "    <tr>\n",
              "      <th>4997</th>\n",
              "      <td>Modern Talking</td>\n",
              "      <td>Love Don't Live Here Anymore</td>\n",
              "      <td>(Hold me darling, you know that I really, real...</td>\n",
              "    </tr>\n",
              "    <tr>\n",
              "      <th>4998</th>\n",
              "      <td>Lynyrd Skynyrd</td>\n",
              "      <td>Money Back Guarantee</td>\n",
              "      <td>She's on the left, I'm on the right  \\nOh, her...</td>\n",
              "    </tr>\n",
              "    <tr>\n",
              "      <th>4999</th>\n",
              "      <td>Face To Face</td>\n",
              "      <td>Nothing New</td>\n",
              "      <td>There is nothing new  \\nPut in front of you  \\...</td>\n",
              "    </tr>\n",
              "  </tbody>\n",
              "</table>\n",
              "<p>5000 rows × 3 columns</p>\n",
              "</div>\n",
              "    <div class=\"colab-df-buttons\">\n",
              "\n",
              "  <div class=\"colab-df-container\">\n",
              "    <button class=\"colab-df-convert\" onclick=\"convertToInteractive('df-f0ca26c1-ef96-44cd-b38f-43e0c34a049f')\"\n",
              "            title=\"Convert this dataframe to an interactive table.\"\n",
              "            style=\"display:none;\">\n",
              "\n",
              "  <svg xmlns=\"http://www.w3.org/2000/svg\" height=\"24px\" viewBox=\"0 -960 960 960\">\n",
              "    <path d=\"M120-120v-720h720v720H120Zm60-500h600v-160H180v160Zm220 220h160v-160H400v160Zm0 220h160v-160H400v160ZM180-400h160v-160H180v160Zm440 0h160v-160H620v160ZM180-180h160v-160H180v160Zm440 0h160v-160H620v160Z\"/>\n",
              "  </svg>\n",
              "    </button>\n",
              "\n",
              "  <style>\n",
              "    .colab-df-container {\n",
              "      display:flex;\n",
              "      gap: 12px;\n",
              "    }\n",
              "\n",
              "    .colab-df-convert {\n",
              "      background-color: #E8F0FE;\n",
              "      border: none;\n",
              "      border-radius: 50%;\n",
              "      cursor: pointer;\n",
              "      display: none;\n",
              "      fill: #1967D2;\n",
              "      height: 32px;\n",
              "      padding: 0 0 0 0;\n",
              "      width: 32px;\n",
              "    }\n",
              "\n",
              "    .colab-df-convert:hover {\n",
              "      background-color: #E2EBFA;\n",
              "      box-shadow: 0px 1px 2px rgba(60, 64, 67, 0.3), 0px 1px 3px 1px rgba(60, 64, 67, 0.15);\n",
              "      fill: #174EA6;\n",
              "    }\n",
              "\n",
              "    .colab-df-buttons div {\n",
              "      margin-bottom: 4px;\n",
              "    }\n",
              "\n",
              "    [theme=dark] .colab-df-convert {\n",
              "      background-color: #3B4455;\n",
              "      fill: #D2E3FC;\n",
              "    }\n",
              "\n",
              "    [theme=dark] .colab-df-convert:hover {\n",
              "      background-color: #434B5C;\n",
              "      box-shadow: 0px 1px 3px 1px rgba(0, 0, 0, 0.15);\n",
              "      filter: drop-shadow(0px 1px 2px rgba(0, 0, 0, 0.3));\n",
              "      fill: #FFFFFF;\n",
              "    }\n",
              "  </style>\n",
              "\n",
              "    <script>\n",
              "      const buttonEl =\n",
              "        document.querySelector('#df-f0ca26c1-ef96-44cd-b38f-43e0c34a049f button.colab-df-convert');\n",
              "      buttonEl.style.display =\n",
              "        google.colab.kernel.accessAllowed ? 'block' : 'none';\n",
              "\n",
              "      async function convertToInteractive(key) {\n",
              "        const element = document.querySelector('#df-f0ca26c1-ef96-44cd-b38f-43e0c34a049f');\n",
              "        const dataTable =\n",
              "          await google.colab.kernel.invokeFunction('convertToInteractive',\n",
              "                                                    [key], {});\n",
              "        if (!dataTable) return;\n",
              "\n",
              "        const docLinkHtml = 'Like what you see? Visit the ' +\n",
              "          '<a target=\"_blank\" href=https://colab.research.google.com/notebooks/data_table.ipynb>data table notebook</a>'\n",
              "          + ' to learn more about interactive tables.';\n",
              "        element.innerHTML = '';\n",
              "        dataTable['output_type'] = 'display_data';\n",
              "        await google.colab.output.renderOutput(dataTable, element);\n",
              "        const docLink = document.createElement('div');\n",
              "        docLink.innerHTML = docLinkHtml;\n",
              "        element.appendChild(docLink);\n",
              "      }\n",
              "    </script>\n",
              "  </div>\n",
              "\n",
              "\n",
              "<div id=\"df-f591cb91-5c71-497c-a6d4-dbda4682eb32\">\n",
              "  <button class=\"colab-df-quickchart\" onclick=\"quickchart('df-f591cb91-5c71-497c-a6d4-dbda4682eb32')\"\n",
              "            title=\"Suggest charts.\"\n",
              "            style=\"display:none;\">\n",
              "\n",
              "<svg xmlns=\"http://www.w3.org/2000/svg\" height=\"24px\"viewBox=\"0 0 24 24\"\n",
              "     width=\"24px\">\n",
              "    <g>\n",
              "        <path d=\"M19 3H5c-1.1 0-2 .9-2 2v14c0 1.1.9 2 2 2h14c1.1 0 2-.9 2-2V5c0-1.1-.9-2-2-2zM9 17H7v-7h2v7zm4 0h-2V7h2v10zm4 0h-2v-4h2v4z\"/>\n",
              "    </g>\n",
              "</svg>\n",
              "  </button>\n",
              "\n",
              "<style>\n",
              "  .colab-df-quickchart {\n",
              "    background-color: #E8F0FE;\n",
              "    border: none;\n",
              "    border-radius: 50%;\n",
              "    cursor: pointer;\n",
              "    display: none;\n",
              "    fill: #1967D2;\n",
              "    height: 32px;\n",
              "    padding: 0 0 0 0;\n",
              "    width: 32px;\n",
              "  }\n",
              "\n",
              "  .colab-df-quickchart:hover {\n",
              "    background-color: #E2EBFA;\n",
              "    box-shadow: 0px 1px 2px rgba(60, 64, 67, 0.3), 0px 1px 3px 1px rgba(60, 64, 67, 0.15);\n",
              "    fill: #174EA6;\n",
              "  }\n",
              "\n",
              "  [theme=dark] .colab-df-quickchart {\n",
              "    background-color: #3B4455;\n",
              "    fill: #D2E3FC;\n",
              "  }\n",
              "\n",
              "  [theme=dark] .colab-df-quickchart:hover {\n",
              "    background-color: #434B5C;\n",
              "    box-shadow: 0px 1px 3px 1px rgba(0, 0, 0, 0.15);\n",
              "    filter: drop-shadow(0px 1px 2px rgba(0, 0, 0, 0.3));\n",
              "    fill: #FFFFFF;\n",
              "  }\n",
              "</style>\n",
              "\n",
              "  <script>\n",
              "    async function quickchart(key) {\n",
              "      const charts = await google.colab.kernel.invokeFunction(\n",
              "          'suggestCharts', [key], {});\n",
              "    }\n",
              "    (() => {\n",
              "      let quickchartButtonEl =\n",
              "        document.querySelector('#df-f591cb91-5c71-497c-a6d4-dbda4682eb32 button');\n",
              "      quickchartButtonEl.style.display =\n",
              "        google.colab.kernel.accessAllowed ? 'block' : 'none';\n",
              "    })();\n",
              "  </script>\n",
              "</div>\n",
              "    </div>\n",
              "  </div>\n"
            ]
          },
          "metadata": {},
          "execution_count": 7
        }
      ]
    },
    {
      "cell_type": "markdown",
      "source": [
        "There are four types of recommendation system- Popularity,Content,Collabrative,hybrid .\n",
        "Preparing Model using Content based Recommendation System"
      ],
      "metadata": {
        "id": "hv2dfFD7Ke6e"
      }
    },
    {
      "cell_type": "code",
      "source": [
        "# cleaning\n",
        "a['song'][0]"
      ],
      "metadata": {
        "colab": {
          "base_uri": "https://localhost:8080/",
          "height": 36
        },
        "id": "elOYPOnkH6L1",
        "outputId": "e9a997be-2f12-4c42-ea00-869766eb12af"
      },
      "execution_count": null,
      "outputs": [
        {
          "output_type": "execute_result",
          "data": {
            "text/plain": [
              "\"You're Made That Way\""
            ],
            "application/vnd.google.colaboratory.intrinsic+json": {
              "type": "string"
            }
          },
          "metadata": {},
          "execution_count": 8
        }
      ]
    },
    {
      "cell_type": "code",
      "source": [
        "a['artist'][0]"
      ],
      "metadata": {
        "colab": {
          "base_uri": "https://localhost:8080/",
          "height": 36
        },
        "id": "VyMy_TK6LMhp",
        "outputId": "77b27d7f-8711-4f87-e05d-2c7b3428c668"
      },
      "execution_count": null,
      "outputs": [
        {
          "output_type": "execute_result",
          "data": {
            "text/plain": [
              "'Doobie Brothers'"
            ],
            "application/vnd.google.colaboratory.intrinsic+json": {
              "type": "string"
            }
          },
          "metadata": {},
          "execution_count": 9
        }
      ]
    },
    {
      "cell_type": "code",
      "source": [
        "a['text'][0]"
      ],
      "metadata": {
        "colab": {
          "base_uri": "https://localhost:8080/",
          "height": 244
        },
        "id": "h2DEGWfSLS8w",
        "outputId": "4eece975-a716-4c5e-c8f6-db13d66b2f17"
      },
      "execution_count": null,
      "outputs": [
        {
          "output_type": "execute_result",
          "data": {
            "text/plain": [
              "'Who are you  \\nWhere you been  \\nHow\\'d you come into my life  \\nI just know once you get started  \\nGirl, I been throwin\\' my heart in  \\nYou\\'re just like walkin\\' in a danger zone  \\nA chance I just had to take  \\nYou\\'re like a drink I needed so bad and found  \\nIf no one pulled my head back in time, I would drown  \\nOh, I get lost in your eyes  \\nI crossed the line for you so long ago  \\nNow I find truth in your lies  \\nYou got me cornered with my back to the wall  \\nTakes all I\\'ve got just to hold on  \\nThrough all the disappointment  \\nLove still remains  \\nDarling, you\\'re made that way  \\nGirl, you\\'re made that way  \\n\"You were just a lonely man  \\nLiving through your empty plans\"  \\nI know you\\'re made that way  \\nI know you\\'re made that way  \\nSay it please  \\nSay you will  \\nCome back and be in my life  \\nGirl, if you just put your heart in it  \\nNo one could stop us once we get started  \\nWell, I get tired of living for your applause  \\nAnd putting my happiness in your hands  \\nWell, I don\\'t know what you\\'re expecting of me  \\nWhat you want for me to be, I will be  \\nI know you\\'re made that way  \\nI know you\\'re made that way  \\n\\n'"
            ],
            "application/vnd.google.colaboratory.intrinsic+json": {
              "type": "string"
            }
          },
          "metadata": {},
          "execution_count": 10
        }
      ]
    },
    {
      "cell_type": "code",
      "source": [
        "#cleaning text using regular exp\n",
        "a['text'] = a['text'].str.lower().replace(r'[^\\w\\s]','').replace(r'\\n','',regex=True)\n",
        "a['text'][0]"
      ],
      "metadata": {
        "colab": {
          "base_uri": "https://localhost:8080/",
          "height": 244
        },
        "id": "GuNrwek0LXXs",
        "outputId": "15930087-afec-4eb0-ef1e-6155d57c0e3d"
      },
      "execution_count": null,
      "outputs": [
        {
          "output_type": "execute_result",
          "data": {
            "text/plain": [
              "'who are you  where you been  how\\'d you come into my life  i just know once you get started  girl, i been throwin\\' my heart in  you\\'re just like walkin\\' in a danger zone  a chance i just had to take  you\\'re like a drink i needed so bad and found  if no one pulled my head back in time, i would drown  oh, i get lost in your eyes  i crossed the line for you so long ago  now i find truth in your lies  you got me cornered with my back to the wall  takes all i\\'ve got just to hold on  through all the disappointment  love still remains  darling, you\\'re made that way  girl, you\\'re made that way  \"you were just a lonely man  living through your empty plans\"  i know you\\'re made that way  i know you\\'re made that way  say it please  say you will  come back and be in my life  girl, if you just put your heart in it  no one could stop us once we get started  well, i get tired of living for your applause  and putting my happiness in your hands  well, i don\\'t know what you\\'re expecting of me  what you want for me to be, i will be  i know you\\'re made that way  i know you\\'re made that way  '"
            ],
            "application/vnd.google.colaboratory.intrinsic+json": {
              "type": "string"
            }
          },
          "metadata": {},
          "execution_count": 11
        }
      ]
    },
    {
      "cell_type": "markdown",
      "source": [
        "Performing Tokenisation i.e Breaking sentence into words\n",
        "them Performing steming to club similar words like love,loving,loved into love"
      ],
      "metadata": {
        "id": "5BFYOIGFNJyF"
      }
    },
    {
      "cell_type": "code",
      "source": [
        "import nltk\n",
        "nltk.download('punkt')\n",
        "from nltk.stem.porter import PorterStemmer\n",
        "\n",
        "ps = PorterStemmer()\n",
        "\n",
        "def tokenization(txt):\n",
        "    tokens = nltk.word_tokenize(txt)\n",
        "    stemming = [ps.stem(w) for w in tokens]\n",
        "\n",
        "    return \" \".join(stemming)"
      ],
      "metadata": {
        "colab": {
          "base_uri": "https://localhost:8080/"
        },
        "id": "9bWnyRDmM6mk",
        "outputId": "5a8927e2-968a-4e40-a9c5-d17bb6293b10"
      },
      "execution_count": null,
      "outputs": [
        {
          "output_type": "stream",
          "name": "stderr",
          "text": [
            "[nltk_data] Downloading package punkt to /root/nltk_data...\n",
            "[nltk_data]   Unzipping tokenizers/punkt.zip.\n"
          ]
        }
      ]
    },
    {
      "cell_type": "code",
      "source": [
        "tokenization('this is my loving loved person')"
      ],
      "metadata": {
        "colab": {
          "base_uri": "https://localhost:8080/",
          "height": 36
        },
        "id": "2Ya3PRUuXkxi",
        "outputId": "6864fb24-df36-409b-f9f0-35095afefcfa"
      },
      "execution_count": null,
      "outputs": [
        {
          "output_type": "execute_result",
          "data": {
            "text/plain": [
              "'thi is my love love person'"
            ],
            "application/vnd.google.colaboratory.intrinsic+json": {
              "type": "string"
            }
          },
          "metadata": {},
          "execution_count": 13
        }
      ]
    },
    {
      "cell_type": "code",
      "source": [
        "a['text']=a['text'].apply(lambda x: tokenization(x))"
      ],
      "metadata": {
        "id": "Z2qy1DvTXxkr"
      },
      "execution_count": null,
      "outputs": []
    },
    {
      "cell_type": "code",
      "source": [
        "a['text']"
      ],
      "metadata": {
        "id": "llGNZbVmaNb1",
        "colab": {
          "base_uri": "https://localhost:8080/"
        },
        "outputId": "ae7168f0-e38b-4849-a22b-c447729794af"
      },
      "execution_count": null,
      "outputs": [
        {
          "output_type": "execute_result",
          "data": {
            "text/plain": [
              "0       who are you where you been how 'd you come int...\n",
              "1       there 's just one place for me , near you it '...\n",
              "2       i can hear her heart beat for a thousand mile ...\n",
              "3       been hidin ' out and layin ' low it 's noth ne...\n",
              "4       an urgent call in the dead of night a voic tha...\n",
              "                              ...                        \n",
              "4995    i pray for better day to come i pray that i wo...\n",
              "4996    i do the dancin ' you do the hoppin ' you do t...\n",
              "4997    ( hold me darl , you know that i realli , real...\n",
              "4998    she 's on the left , i 'm on the right oh , he...\n",
              "4999    there is noth new put in front of you noth you...\n",
              "Name: text, Length: 5000, dtype: object"
            ]
          },
          "metadata": {},
          "execution_count": 15
        }
      ]
    },
    {
      "cell_type": "code",
      "source": [
        "from sklearn.feature_extraction.text import TfidfVectorizer\n",
        "from sklearn.metrics.pairwise import cosine_similarity"
      ],
      "metadata": {
        "id": "_rBuUoHkwwex"
      },
      "execution_count": null,
      "outputs": []
    },
    {
      "cell_type": "markdown",
      "source": [
        "if angle between two user vector is 0 then they are same or similar and if 90 not similar .so angle gives similarity of users."
      ],
      "metadata": {
        "id": "1_ZZOH6w13Sq"
      }
    },
    {
      "cell_type": "markdown",
      "source": [
        "Tf = word/total word\n",
        "idf= total word/word count\n",
        "Count of that word = Tf* Idf"
      ],
      "metadata": {
        "id": "FqTBCZaY2Hxe"
      }
    },
    {
      "cell_type": "code",
      "source": [
        "# creating object and removing words like this ,is ,to,etc\n",
        "tfid = TfidfVectorizer(stop_words='english')\n",
        "matrix = tfid.fit_transform(a['text'])"
      ],
      "metadata": {
        "id": "x4q4toPj1zff"
      },
      "execution_count": null,
      "outputs": []
    },
    {
      "cell_type": "code",
      "source": [
        "matrix.shape"
      ],
      "metadata": {
        "colab": {
          "base_uri": "https://localhost:8080/"
        },
        "id": "7dU4sB9v1uMz",
        "outputId": "f11e05f9-c4c2-4dd5-cab7-3af125a23b1f"
      },
      "execution_count": null,
      "outputs": [
        {
          "output_type": "execute_result",
          "data": {
            "text/plain": [
              "(5000, 17905)"
            ]
          },
          "metadata": {},
          "execution_count": 18
        }
      ]
    },
    {
      "cell_type": "code",
      "source": [
        "similarity = cosine_similarity(matrix)"
      ],
      "metadata": {
        "id": "v_EvwA-x3PwH"
      },
      "execution_count": null,
      "outputs": []
    },
    {
      "cell_type": "markdown",
      "source": [
        "showing my song 1 is similar to others"
      ],
      "metadata": {
        "id": "mAu-d4374uN1"
      }
    },
    {
      "cell_type": "code",
      "source": [
        "similarity[0]"
      ],
      "metadata": {
        "id": "eRdz1dPZ3iHF",
        "colab": {
          "base_uri": "https://localhost:8080/"
        },
        "outputId": "ddc3c5df-0fa1-4b7c-bcbf-98e1de647eee"
      },
      "execution_count": null,
      "outputs": [
        {
          "output_type": "execute_result",
          "data": {
            "text/plain": [
              "array([1.        , 0.0869921 , 0.05491917, ..., 0.17024098, 0.0735741 ,\n",
              "       0.04316628])"
            ]
          },
          "metadata": {},
          "execution_count": 20
        }
      ]
    },
    {
      "cell_type": "code",
      "source": [
        "a['song'][0]"
      ],
      "metadata": {
        "id": "qxzsjJ7x3lGX",
        "colab": {
          "base_uri": "https://localhost:8080/",
          "height": 36
        },
        "outputId": "820ec558-2688-4e10-95fb-bfb4a0ce4318"
      },
      "execution_count": null,
      "outputs": [
        {
          "output_type": "execute_result",
          "data": {
            "text/plain": [
              "\"You're Made That Way\""
            ],
            "application/vnd.google.colaboratory.intrinsic+json": {
              "type": "string"
            }
          },
          "metadata": {},
          "execution_count": 21
        }
      ]
    },
    {
      "cell_type": "code",
      "source": [
        "a[a['song']== \"You're Made That Way\"]"
      ],
      "metadata": {
        "colab": {
          "base_uri": "https://localhost:8080/",
          "height": 98
        },
        "id": "hzHF1Eau-6mK",
        "outputId": "62422703-4229-48aa-e1db-21e00d8642de"
      },
      "execution_count": null,
      "outputs": [
        {
          "output_type": "execute_result",
          "data": {
            "text/plain": [
              "            artist                  song  \\\n",
              "0  Doobie Brothers  You're Made That Way   \n",
              "\n",
              "                                                text  \n",
              "0  who are you where you been how 'd you come int...  "
            ],
            "text/html": [
              "\n",
              "  <div id=\"df-6496fad5-3488-4cb5-a1ad-0c2909cd85ca\" class=\"colab-df-container\">\n",
              "    <div>\n",
              "<style scoped>\n",
              "    .dataframe tbody tr th:only-of-type {\n",
              "        vertical-align: middle;\n",
              "    }\n",
              "\n",
              "    .dataframe tbody tr th {\n",
              "        vertical-align: top;\n",
              "    }\n",
              "\n",
              "    .dataframe thead th {\n",
              "        text-align: right;\n",
              "    }\n",
              "</style>\n",
              "<table border=\"1\" class=\"dataframe\">\n",
              "  <thead>\n",
              "    <tr style=\"text-align: right;\">\n",
              "      <th></th>\n",
              "      <th>artist</th>\n",
              "      <th>song</th>\n",
              "      <th>text</th>\n",
              "    </tr>\n",
              "  </thead>\n",
              "  <tbody>\n",
              "    <tr>\n",
              "      <th>0</th>\n",
              "      <td>Doobie Brothers</td>\n",
              "      <td>You're Made That Way</td>\n",
              "      <td>who are you where you been how 'd you come int...</td>\n",
              "    </tr>\n",
              "  </tbody>\n",
              "</table>\n",
              "</div>\n",
              "    <div class=\"colab-df-buttons\">\n",
              "\n",
              "  <div class=\"colab-df-container\">\n",
              "    <button class=\"colab-df-convert\" onclick=\"convertToInteractive('df-6496fad5-3488-4cb5-a1ad-0c2909cd85ca')\"\n",
              "            title=\"Convert this dataframe to an interactive table.\"\n",
              "            style=\"display:none;\">\n",
              "\n",
              "  <svg xmlns=\"http://www.w3.org/2000/svg\" height=\"24px\" viewBox=\"0 -960 960 960\">\n",
              "    <path d=\"M120-120v-720h720v720H120Zm60-500h600v-160H180v160Zm220 220h160v-160H400v160Zm0 220h160v-160H400v160ZM180-400h160v-160H180v160Zm440 0h160v-160H620v160ZM180-180h160v-160H180v160Zm440 0h160v-160H620v160Z\"/>\n",
              "  </svg>\n",
              "    </button>\n",
              "\n",
              "  <style>\n",
              "    .colab-df-container {\n",
              "      display:flex;\n",
              "      gap: 12px;\n",
              "    }\n",
              "\n",
              "    .colab-df-convert {\n",
              "      background-color: #E8F0FE;\n",
              "      border: none;\n",
              "      border-radius: 50%;\n",
              "      cursor: pointer;\n",
              "      display: none;\n",
              "      fill: #1967D2;\n",
              "      height: 32px;\n",
              "      padding: 0 0 0 0;\n",
              "      width: 32px;\n",
              "    }\n",
              "\n",
              "    .colab-df-convert:hover {\n",
              "      background-color: #E2EBFA;\n",
              "      box-shadow: 0px 1px 2px rgba(60, 64, 67, 0.3), 0px 1px 3px 1px rgba(60, 64, 67, 0.15);\n",
              "      fill: #174EA6;\n",
              "    }\n",
              "\n",
              "    .colab-df-buttons div {\n",
              "      margin-bottom: 4px;\n",
              "    }\n",
              "\n",
              "    [theme=dark] .colab-df-convert {\n",
              "      background-color: #3B4455;\n",
              "      fill: #D2E3FC;\n",
              "    }\n",
              "\n",
              "    [theme=dark] .colab-df-convert:hover {\n",
              "      background-color: #434B5C;\n",
              "      box-shadow: 0px 1px 3px 1px rgba(0, 0, 0, 0.15);\n",
              "      filter: drop-shadow(0px 1px 2px rgba(0, 0, 0, 0.3));\n",
              "      fill: #FFFFFF;\n",
              "    }\n",
              "  </style>\n",
              "\n",
              "    <script>\n",
              "      const buttonEl =\n",
              "        document.querySelector('#df-6496fad5-3488-4cb5-a1ad-0c2909cd85ca button.colab-df-convert');\n",
              "      buttonEl.style.display =\n",
              "        google.colab.kernel.accessAllowed ? 'block' : 'none';\n",
              "\n",
              "      async function convertToInteractive(key) {\n",
              "        const element = document.querySelector('#df-6496fad5-3488-4cb5-a1ad-0c2909cd85ca');\n",
              "        const dataTable =\n",
              "          await google.colab.kernel.invokeFunction('convertToInteractive',\n",
              "                                                    [key], {});\n",
              "        if (!dataTable) return;\n",
              "\n",
              "        const docLinkHtml = 'Like what you see? Visit the ' +\n",
              "          '<a target=\"_blank\" href=https://colab.research.google.com/notebooks/data_table.ipynb>data table notebook</a>'\n",
              "          + ' to learn more about interactive tables.';\n",
              "        element.innerHTML = '';\n",
              "        dataTable['output_type'] = 'display_data';\n",
              "        await google.colab.output.renderOutput(dataTable, element);\n",
              "        const docLink = document.createElement('div');\n",
              "        docLink.innerHTML = docLinkHtml;\n",
              "        element.appendChild(docLink);\n",
              "      }\n",
              "    </script>\n",
              "  </div>\n",
              "\n",
              "    </div>\n",
              "  </div>\n"
            ]
          },
          "metadata": {},
          "execution_count": 25
        }
      ]
    },
    {
      "cell_type": "code",
      "source": [
        "def recommendation(song):\n",
        "  idx = a[a['song'] == song].index[0]\n",
        "  distances = sorted(list(enumerate(similarity[idx])),reverse=False,key=lambda x:x[1])\n",
        "\n",
        "  songs = []\n",
        "  for i in distances[1:21]:\n",
        "    songs.append(a.iloc[i[0]].song)\n",
        "\n",
        "  return songs"
      ],
      "metadata": {
        "id": "ftNxer1k_HQf"
      },
      "execution_count": null,
      "outputs": []
    },
    {
      "cell_type": "code",
      "source": [
        "recommendation(\"You're Made That Way\")"
      ],
      "metadata": {
        "colab": {
          "base_uri": "https://localhost:8080/"
        },
        "id": "W-ufhryFv2UP",
        "outputId": "01ea138d-e5e5-4172-b2ec-281041eda796"
      },
      "execution_count": null,
      "outputs": [
        {
          "output_type": "execute_result",
          "data": {
            "text/plain": [
              "['Holy Holy',\n",
              " 'Mensen',\n",
              " 'Deck The Halls',\n",
              " 'Smash The Mirror',\n",
              " 'Jesus Paid It All',\n",
              " 'Great Rain',\n",
              " 'Pray',\n",
              " 'Offertorio',\n",
              " 'Deck The Halls',\n",
              " 'Are You Washed In The Blood?',\n",
              " 'Fade To Black',\n",
              " 'Glory Alleluia',\n",
              " 'Kuess Mich',\n",
              " 'God Rest Ye Merry Gentlemen',\n",
              " 'Ayoko Na Sana',\n",
              " 'Magpie',\n",
              " 'Gaya Ng Dati',\n",
              " 'Hagkan',\n",
              " 'Ikaw',\n",
              " 'Selatan Jakarta']"
            ]
          },
          "metadata": {},
          "execution_count": 27
        }
      ]
    },
    {
      "cell_type": "code",
      "source": [
        "recommendation('Ikaw')"
      ],
      "metadata": {
        "colab": {
          "base_uri": "https://localhost:8080/"
        },
        "id": "gXzNL_NbBrt8",
        "outputId": "0678ab2c-9a7c-4391-ecd6-4fec29094547"
      },
      "execution_count": null,
      "outputs": [
        {
          "output_type": "execute_result",
          "data": {
            "text/plain": [
              "['Near You',\n",
              " 'Crazy Love',\n",
              " 'Out Ta Get Me',\n",
              " 'The Other Man',\n",
              " 'Anita Sonic Love',\n",
              " 'Crazy Mary',\n",
              " 'No Feelings',\n",
              " 'Across The Earth',\n",
              " 'Underneath The Same Sky',\n",
              " 'More To See',\n",
              " 'The White Stuff',\n",
              " 'It Has To Be You, It Has To Be Me',\n",
              " 'Lust Or Love',\n",
              " 'That Smell',\n",
              " 'The Sweetest Days',\n",
              " 'Love Is A Sweet Thing',\n",
              " 'Let It Pour',\n",
              " 'Metal Gods',\n",
              " 'Sundown',\n",
              " 'Echos Myron']"
            ]
          },
          "metadata": {},
          "execution_count": 29
        }
      ]
    },
    {
      "cell_type": "code",
      "source": [
        "import pickle\n",
        "pickle.dump(a,open('a.pkl','wb'))\n",
        "pickle.dump(similarity,open('similarity.pkl','wb'))"
      ],
      "metadata": {
        "id": "tn6XSvouwEhq"
      },
      "execution_count": null,
      "outputs": []
    },
    {
      "cell_type": "code",
      "source": [],
      "metadata": {
        "id": "Er99pX8TCBjS"
      },
      "execution_count": null,
      "outputs": []
    }
  ]
}